{
  "nbformat": 4,
  "nbformat_minor": 0,
  "metadata": {
    "colab": {
      "provenance": []
    },
    "kernelspec": {
      "name": "python3",
      "display_name": "Python 3"
    },
    "language_info": {
      "name": "python"
    }
  },
  "cells": [
    {
      "cell_type": "markdown",
      "source": [
        "## Feature selection and modeling for FiveThirtyEight College Majors Dataset\n",
        "\n",
        "https://github.com/fivethirtyeight/data/blob/master/college-majors/recent-grads.csv"
      ],
      "metadata": {
        "id": "kRc0EUpyQZAD"
      }
    },
    {
      "cell_type": "code",
      "execution_count": null,
      "metadata": {
        "id": "HN5ufri8QU5L"
      },
      "outputs": [],
      "source": [
        "import pandas as pd\n",
        "import matplotlib.pyplot as plt\n",
        "import seaborn as sns\n",
        "\n",
        "data = pd.read_csv('/content/recent-grads.csv')"
      ]
    },
    {
      "cell_type": "code",
      "source": [
        "print(data.info())"
      ],
      "metadata": {
        "colab": {
          "base_uri": "https://localhost:8080/"
        },
        "id": "Y0YJWMeIcnLw",
        "outputId": "1ed5e34f-1822-4897-d52d-db7d61bfc472"
      },
      "execution_count": null,
      "outputs": [
        {
          "output_type": "stream",
          "name": "stdout",
          "text": [
            "<class 'pandas.core.frame.DataFrame'>\n",
            "RangeIndex: 173 entries, 0 to 172\n",
            "Data columns (total 21 columns):\n",
            " #   Column                Non-Null Count  Dtype  \n",
            "---  ------                --------------  -----  \n",
            " 0   Rank                  173 non-null    int64  \n",
            " 1   Major_code            173 non-null    int64  \n",
            " 2   Major                 173 non-null    object \n",
            " 3   Total                 172 non-null    float64\n",
            " 4   Men                   172 non-null    float64\n",
            " 5   Women                 172 non-null    float64\n",
            " 6   Major_category        173 non-null    object \n",
            " 7   ShareWomen            172 non-null    float64\n",
            " 8   Sample_size           173 non-null    int64  \n",
            " 9   Employed              173 non-null    int64  \n",
            " 10  Full_time             173 non-null    int64  \n",
            " 11  Part_time             173 non-null    int64  \n",
            " 12  Full_time_year_round  173 non-null    int64  \n",
            " 13  Unemployed            173 non-null    int64  \n",
            " 14  Unemployment_rate     173 non-null    float64\n",
            " 15  Median                173 non-null    int64  \n",
            " 16  P25th                 173 non-null    int64  \n",
            " 17  P75th                 173 non-null    int64  \n",
            " 18  College_jobs          173 non-null    int64  \n",
            " 19  Non_college_jobs      173 non-null    int64  \n",
            " 20  Low_wage_jobs         173 non-null    int64  \n",
            "dtypes: float64(5), int64(14), object(2)\n",
            "memory usage: 28.5+ KB\n",
            "None\n"
          ]
        }
      ]
    },
    {
      "cell_type": "code",
      "source": [
        "# Look at how many missing values are in this dataset:\n",
        "print(\"Missing Values:\")\n",
        "print(data.isnull().sum())\n",
        "\n",
        "# The number of missing values is very small in each feature, so we do not need\n",
        "# to worrying about removing features containing to many NAs. Instead, we directly\n",
        "# dropped those few NA values which won't affect the general result\n",
        "data_cleaned = data.dropna()\n",
        "\n",
        "print(\"Cleaned Dataset:\")\n",
        "print(data_cleaned.head())\n",
        "\n",
        "print(\"Summary Statistics of Cleaned Data:\")\n",
        "print(data_cleaned.describe())"
      ],
      "metadata": {
        "colab": {
          "base_uri": "https://localhost:8080/"
        },
        "id": "Hh6Zc5Dycp_i",
        "outputId": "5eebdeec-d037-4093-df20-13218c299813"
      },
      "execution_count": null,
      "outputs": [
        {
          "output_type": "stream",
          "name": "stdout",
          "text": [
            "Missing Values:\n",
            "Rank                    0\n",
            "Major_code              0\n",
            "Major                   0\n",
            "Total                   1\n",
            "Men                     1\n",
            "Women                   1\n",
            "Major_category          0\n",
            "ShareWomen              1\n",
            "Sample_size             0\n",
            "Employed                0\n",
            "Full_time               0\n",
            "Part_time               0\n",
            "Full_time_year_round    0\n",
            "Unemployed              0\n",
            "Unemployment_rate       0\n",
            "Median                  0\n",
            "P25th                   0\n",
            "P75th                   0\n",
            "College_jobs            0\n",
            "Non_college_jobs        0\n",
            "Low_wage_jobs           0\n",
            "dtype: int64\n",
            "Cleaned Dataset:\n",
            "   Rank  Major_code                                      Major    Total  \\\n",
            "0     1        2419                      PETROLEUM ENGINEERING   2339.0   \n",
            "1     2        2416             MINING AND MINERAL ENGINEERING    756.0   \n",
            "2     3        2415                  METALLURGICAL ENGINEERING    856.0   \n",
            "3     4        2417  NAVAL ARCHITECTURE AND MARINE ENGINEERING   1258.0   \n",
            "4     5        2405                       CHEMICAL ENGINEERING  32260.0   \n",
            "\n",
            "       Men    Women Major_category  ShareWomen  Sample_size  Employed  ...  \\\n",
            "0   2057.0    282.0    Engineering    0.120564           36      1976  ...   \n",
            "1    679.0     77.0    Engineering    0.101852            7       640  ...   \n",
            "2    725.0    131.0    Engineering    0.153037            3       648  ...   \n",
            "3   1123.0    135.0    Engineering    0.107313           16       758  ...   \n",
            "4  21239.0  11021.0    Engineering    0.341631          289     25694  ...   \n",
            "\n",
            "   Part_time  Full_time_year_round  Unemployed  Unemployment_rate  Median  \\\n",
            "0        270                  1207          37           0.018381  110000   \n",
            "1        170                   388          85           0.117241   75000   \n",
            "2        133                   340          16           0.024096   73000   \n",
            "3        150                   692          40           0.050125   70000   \n",
            "4       5180                 16697        1672           0.061098   65000   \n",
            "\n",
            "   P25th   P75th  College_jobs  Non_college_jobs  Low_wage_jobs  \n",
            "0  95000  125000          1534               364            193  \n",
            "1  55000   90000           350               257             50  \n",
            "2  50000  105000           456               176              0  \n",
            "3  43000   80000           529               102              0  \n",
            "4  50000   75000         18314              4440            972  \n",
            "\n",
            "[5 rows x 21 columns]\n",
            "Summary Statistics of Cleaned Data:\n",
            "             Rank   Major_code          Total            Men          Women  \\\n",
            "count  172.000000   172.000000     172.000000     172.000000     172.000000   \n",
            "mean    87.377907  3895.953488   39370.081395   16723.406977   22646.674419   \n",
            "std     49.983181  1679.240095   63483.491009   28122.433474   41057.330740   \n",
            "min      1.000000  1100.000000     124.000000     119.000000       0.000000   \n",
            "25%     44.750000  2403.750000    4549.750000    2177.500000    1778.250000   \n",
            "50%     87.500000  3608.500000   15104.000000    5434.000000    8386.500000   \n",
            "75%    130.250000  5503.250000   38909.750000   14631.000000   22553.750000   \n",
            "max    173.000000  6403.000000  393735.000000  173809.000000  307087.000000   \n",
            "\n",
            "       ShareWomen  Sample_size      Employed      Full_time      Part_time  \\\n",
            "count  172.000000   172.000000     172.00000     172.000000     172.000000   \n",
            "mean     0.522223   357.941860   31355.80814   26165.767442    8877.232558   \n",
            "std      0.231205   619.680419   50777.42865   42957.122320   14679.038729   \n",
            "min      0.000000     2.000000       0.00000     111.000000       0.000000   \n",
            "25%      0.336026    42.000000    3734.75000    3181.000000    1013.750000   \n",
            "50%      0.534024   131.000000   12031.50000   10073.500000    3332.500000   \n",
            "75%      0.703299   339.000000   31701.25000   25447.250000    9981.000000   \n",
            "max      0.968954  4212.000000  307933.00000  251540.000000  115172.000000   \n",
            "\n",
            "       Full_time_year_round    Unemployed  Unemployment_rate         Median  \\\n",
            "count            172.000000    172.000000         172.000000     172.000000   \n",
            "mean           19798.843023   2428.412791           0.068024   40076.744186   \n",
            "std            33229.227514   4121.730452           0.030340   11461.388773   \n",
            "min              111.000000      0.000000           0.000000   22000.000000   \n",
            "25%             2474.750000    299.500000           0.050261   33000.000000   \n",
            "50%             7436.500000    905.000000           0.067544   36000.000000   \n",
            "75%            17674.750000   2397.000000           0.087247   45000.000000   \n",
            "max           199897.000000  28169.000000           0.177226  110000.000000   \n",
            "\n",
            "              P25th          P75th   College_jobs  Non_college_jobs  \\\n",
            "count    172.000000     172.000000     172.000000        172.000000   \n",
            "mean   29486.918605   51386.627907   12387.401163      13354.325581   \n",
            "std     9190.769927   14882.278650   21344.967522      23841.326605   \n",
            "min    18500.000000   22000.000000       0.000000          0.000000   \n",
            "25%    24000.000000   41750.000000    1744.750000       1594.000000   \n",
            "50%    27000.000000   47000.000000    4467.500000       4603.500000   \n",
            "75%    33250.000000   58500.000000   14595.750000      11791.750000   \n",
            "max    95000.000000  125000.000000  151643.000000     148395.000000   \n",
            "\n",
            "       Low_wage_jobs  \n",
            "count     172.000000  \n",
            "mean     3878.633721  \n",
            "std      6960.467621  \n",
            "min         0.000000  \n",
            "25%       336.750000  \n",
            "50%      1238.500000  \n",
            "75%      3496.000000  \n",
            "max     48207.000000  \n"
          ]
        }
      ]
    },
    {
      "cell_type": "code",
      "source": [
        "from mlxtend.feature_selection import SequentialFeatureSelector as SFS\n",
        "from mlxtend.plotting import plot_sequential_feature_selection as plot_sfs\n",
        "from sklearn.model_selection import train_test_split\n",
        "from sklearn.neighbors import KNeighborsClassifier\n",
        "from sklearn.linear_model import LinearRegression\n",
        "from sklearn.metrics import mean_absolute_error\n",
        "import numpy as np"
      ],
      "metadata": {
        "id": "WYIt-6A1cxNq"
      },
      "execution_count": null,
      "outputs": []
    },
    {
      "cell_type": "code",
      "source": [
        "data_median = data_cleaned.drop(['Rank', 'Major_code', 'Major', 'Major_category', 'P25th','P75th'], axis=1)\n",
        "data_25th = data_cleaned.drop(['Rank', 'Major_code', 'Major', 'Major_category', 'Median','P75th'], axis=1)\n",
        "data_75th = data_cleaned.drop(['Rank', 'Major_code', 'Major', 'Major_category', 'P25th','Median'], axis=1)"
      ],
      "metadata": {
        "id": "NgV6c0tPfcpc"
      },
      "execution_count": null,
      "outputs": []
    },
    {
      "cell_type": "code",
      "source": [
        "from sklearn.model_selection import train_test_split\n",
        "y_med = data_median.Median\n",
        "y_25th = data_25th.P25th\n",
        "y_75th = data_75th.P75th\n",
        "X_med_train, X_med_test, y_med_train, y_med_test = train_test_split(data_median, y_med, test_size=0.25, random_state=42)\n",
        "X_25_train, X_25_test, y_25_train, y_25_test = train_test_split(data_25th, y_25th, test_size=0.25, random_state=42)\n",
        "X_75_train, X_75_test, y_75_train, y_75_test = train_test_split(data_75th, y_75th, test_size=0.25, random_state=42)"
      ],
      "metadata": {
        "id": "FFXIiwgSfdWN"
      },
      "execution_count": null,
      "outputs": []
    },
    {
      "cell_type": "markdown",
      "source": [
        "Using multipvariable linear regression as the estimator to pick the top 5 features for median:"
      ],
      "metadata": {
        "id": "VShVLSd5mr5w"
      }
    },
    {
      "cell_type": "code",
      "source": [
        "model_selected_features = LinearRegression()\n",
        "model_selected_features.fit(X_med_train, y_med_train)"
      ],
      "metadata": {
        "colab": {
          "base_uri": "https://localhost:8080/",
          "height": 75
        },
        "id": "qXXvNxv-kZBO",
        "outputId": "c053822c-81df-4624-a822-03dd956e3839"
      },
      "execution_count": null,
      "outputs": [
        {
          "output_type": "execute_result",
          "data": {
            "text/plain": [
              "LinearRegression()"
            ],
            "text/html": [
              "<style>#sk-container-id-1 {color: black;background-color: white;}#sk-container-id-1 pre{padding: 0;}#sk-container-id-1 div.sk-toggleable {background-color: white;}#sk-container-id-1 label.sk-toggleable__label {cursor: pointer;display: block;width: 100%;margin-bottom: 0;padding: 0.3em;box-sizing: border-box;text-align: center;}#sk-container-id-1 label.sk-toggleable__label-arrow:before {content: \"▸\";float: left;margin-right: 0.25em;color: #696969;}#sk-container-id-1 label.sk-toggleable__label-arrow:hover:before {color: black;}#sk-container-id-1 div.sk-estimator:hover label.sk-toggleable__label-arrow:before {color: black;}#sk-container-id-1 div.sk-toggleable__content {max-height: 0;max-width: 0;overflow: hidden;text-align: left;background-color: #f0f8ff;}#sk-container-id-1 div.sk-toggleable__content pre {margin: 0.2em;color: black;border-radius: 0.25em;background-color: #f0f8ff;}#sk-container-id-1 input.sk-toggleable__control:checked~div.sk-toggleable__content {max-height: 200px;max-width: 100%;overflow: auto;}#sk-container-id-1 input.sk-toggleable__control:checked~label.sk-toggleable__label-arrow:before {content: \"▾\";}#sk-container-id-1 div.sk-estimator input.sk-toggleable__control:checked~label.sk-toggleable__label {background-color: #d4ebff;}#sk-container-id-1 div.sk-label input.sk-toggleable__control:checked~label.sk-toggleable__label {background-color: #d4ebff;}#sk-container-id-1 input.sk-hidden--visually {border: 0;clip: rect(1px 1px 1px 1px);clip: rect(1px, 1px, 1px, 1px);height: 1px;margin: -1px;overflow: hidden;padding: 0;position: absolute;width: 1px;}#sk-container-id-1 div.sk-estimator {font-family: monospace;background-color: #f0f8ff;border: 1px dotted black;border-radius: 0.25em;box-sizing: border-box;margin-bottom: 0.5em;}#sk-container-id-1 div.sk-estimator:hover {background-color: #d4ebff;}#sk-container-id-1 div.sk-parallel-item::after {content: \"\";width: 100%;border-bottom: 1px solid gray;flex-grow: 1;}#sk-container-id-1 div.sk-label:hover label.sk-toggleable__label {background-color: #d4ebff;}#sk-container-id-1 div.sk-serial::before {content: \"\";position: absolute;border-left: 1px solid gray;box-sizing: border-box;top: 0;bottom: 0;left: 50%;z-index: 0;}#sk-container-id-1 div.sk-serial {display: flex;flex-direction: column;align-items: center;background-color: white;padding-right: 0.2em;padding-left: 0.2em;position: relative;}#sk-container-id-1 div.sk-item {position: relative;z-index: 1;}#sk-container-id-1 div.sk-parallel {display: flex;align-items: stretch;justify-content: center;background-color: white;position: relative;}#sk-container-id-1 div.sk-item::before, #sk-container-id-1 div.sk-parallel-item::before {content: \"\";position: absolute;border-left: 1px solid gray;box-sizing: border-box;top: 0;bottom: 0;left: 50%;z-index: -1;}#sk-container-id-1 div.sk-parallel-item {display: flex;flex-direction: column;z-index: 1;position: relative;background-color: white;}#sk-container-id-1 div.sk-parallel-item:first-child::after {align-self: flex-end;width: 50%;}#sk-container-id-1 div.sk-parallel-item:last-child::after {align-self: flex-start;width: 50%;}#sk-container-id-1 div.sk-parallel-item:only-child::after {width: 0;}#sk-container-id-1 div.sk-dashed-wrapped {border: 1px dashed gray;margin: 0 0.4em 0.5em 0.4em;box-sizing: border-box;padding-bottom: 0.4em;background-color: white;}#sk-container-id-1 div.sk-label label {font-family: monospace;font-weight: bold;display: inline-block;line-height: 1.2em;}#sk-container-id-1 div.sk-label-container {text-align: center;}#sk-container-id-1 div.sk-container {/* jupyter's `normalize.less` sets `[hidden] { display: none; }` but bootstrap.min.css set `[hidden] { display: none !important; }` so we also need the `!important` here to be able to override the default hidden behavior on the sphinx rendered scikit-learn.org. See: https://github.com/scikit-learn/scikit-learn/issues/21755 */display: inline-block !important;position: relative;}#sk-container-id-1 div.sk-text-repr-fallback {display: none;}</style><div id=\"sk-container-id-1\" class=\"sk-top-container\"><div class=\"sk-text-repr-fallback\"><pre>LinearRegression()</pre><b>In a Jupyter environment, please rerun this cell to show the HTML representation or trust the notebook. <br />On GitHub, the HTML representation is unable to render, please try loading this page with nbviewer.org.</b></div><div class=\"sk-container\" hidden><div class=\"sk-item\"><div class=\"sk-estimator sk-toggleable\"><input class=\"sk-toggleable__control sk-hidden--visually\" id=\"sk-estimator-id-1\" type=\"checkbox\" checked><label for=\"sk-estimator-id-1\" class=\"sk-toggleable__label sk-toggleable__label-arrow\">LinearRegression</label><div class=\"sk-toggleable__content\"><pre>LinearRegression()</pre></div></div></div></div></div>"
            ]
          },
          "metadata": {},
          "execution_count": 48
        }
      ]
    },
    {
      "cell_type": "code",
      "source": [
        "sfs = SFS(model_selected_features, k_features = 5, scoring = 'neg_mean_absolute_error', cv = 3, n_jobs = -1)\n",
        "sfs = sfs.fit(X_med_train, y_med_train)"
      ],
      "metadata": {
        "id": "bF-kvX62mNT_"
      },
      "execution_count": null,
      "outputs": []
    },
    {
      "cell_type": "code",
      "source": [
        "print(\"The top 5 features to predict median salary using linear regression are:\")\n",
        "print(X_med_train.columns[list(sfs.k_feature_idx_)])"
      ],
      "metadata": {
        "colab": {
          "base_uri": "https://localhost:8080/"
        },
        "id": "Y8kU16y2mVjN",
        "outputId": "0719e4ea-991b-4af0-a75c-261e9458975f"
      },
      "execution_count": null,
      "outputs": [
        {
          "output_type": "stream",
          "name": "stdout",
          "text": [
            "The top 5 features to predict median salary using linear regression are:\n",
            "Index(['ShareWomen', 'Sample_size', 'Unemployed', 'Unemployment_rate',\n",
            "       'Median'],\n",
            "      dtype='object')\n"
          ]
        }
      ]
    },
    {
      "cell_type": "markdown",
      "source": [
        "Using multipvariable linear regression as the estimator to pick the top 5 features for the 25th percentile:"
      ],
      "metadata": {
        "id": "5XSp2yX4nSTT"
      }
    },
    {
      "cell_type": "code",
      "source": [
        "model_selected_features = LinearRegression()\n",
        "model_selected_features.fit(X_25_train, y_25_train)\n",
        "sfs = SFS(model_selected_features, k_features = 5, scoring = 'neg_mean_absolute_error', cv = 3, n_jobs = -1)\n",
        "sfs = sfs.fit(X_25_train, y_25_train)\n",
        "print(\"The top 5 features to predict the 25th percentile salary using linear regression are:\")\n",
        "print(X_med_train.columns[list(sfs.k_feature_idx_)])"
      ],
      "metadata": {
        "colab": {
          "base_uri": "https://localhost:8080/"
        },
        "id": "WOw0MdTgnUM_",
        "outputId": "91cf3214-c951-49b1-ad37-cfc81097567d"
      },
      "execution_count": null,
      "outputs": [
        {
          "output_type": "stream",
          "name": "stdout",
          "text": [
            "The top 5 features to predict the 25th percentile salary using linear regression are:\n",
            "Index(['Full_time_year_round', 'Median', 'College_jobs', 'Non_college_jobs',\n",
            "       'Low_wage_jobs'],\n",
            "      dtype='object')\n"
          ]
        }
      ]
    },
    {
      "cell_type": "markdown",
      "source": [
        "Using multipvariable linear regression as the estimator to pick the top 5 features for the 75th percentile:\n",
        "\n",
        "\n"
      ],
      "metadata": {
        "id": "kO-bOYmtn6MO"
      }
    },
    {
      "cell_type": "code",
      "source": [
        "model_selected_features = LinearRegression()\n",
        "model_selected_features.fit(X_75_train, y_75_train)\n",
        "sfs = SFS(model_selected_features, k_features = 5, scoring = 'neg_mean_absolute_error', cv = 3, n_jobs = -1)\n",
        "sfs = sfs.fit(X_75_train, y_75_train)\n",
        "print(\"The top 5 features to predict the 75th percentile salary using linear regression are:\")\n",
        "print(X_med_train.columns[list(sfs.k_feature_idx_)])"
      ],
      "metadata": {
        "colab": {
          "base_uri": "https://localhost:8080/"
        },
        "id": "h7qwTqpWn7iJ",
        "outputId": "54112fbb-148c-457e-a36c-c8a7cd9ea3be"
      },
      "execution_count": null,
      "outputs": [
        {
          "output_type": "stream",
          "name": "stdout",
          "text": [
            "The top 5 features to predict the 75th percentile salary using linear regression are:\n",
            "Index(['Employed', 'Full_time', 'Full_time_year_round', 'Median',\n",
            "       'Low_wage_jobs'],\n",
            "      dtype='object')\n"
          ]
        }
      ]
    },
    {
      "cell_type": "markdown",
      "source": [
        "Using the knn algorithm as the estimator to pick the top 5 features for median:"
      ],
      "metadata": {
        "id": "4cKyrtd7pcWP"
      }
    },
    {
      "cell_type": "code",
      "source": [
        "# If using KNN as the estimator (because we cannot guarantee linear relationship)\n",
        "knn = KNeighborsClassifier(n_neighbors=3)"
      ],
      "metadata": {
        "id": "akpMwGRWfgFC"
      },
      "execution_count": null,
      "outputs": []
    },
    {
      "cell_type": "code",
      "source": [
        "sfs = SFS(knn, k_features = 5, scoring = 'neg_mean_absolute_error', cv = 3, n_jobs = -1)\n",
        "sfs = sfs.fit(X_med_train, y_med_train)\n",
        "print(\"The top 5 features to predict median salary using knn are:\")\n",
        "print(X_med_train.columns[list(sfs.k_feature_idx_)])"
      ],
      "metadata": {
        "colab": {
          "base_uri": "https://localhost:8080/"
        },
        "id": "ASW7CdMEpqCe",
        "outputId": "53bd31cd-72d9-461e-ac4c-3ebdac0d0390"
      },
      "execution_count": null,
      "outputs": [
        {
          "output_type": "stream",
          "name": "stdout",
          "text": [
            "The top 5 features to predict median salary using knn are:\n",
            "Index(['ShareWomen', 'Sample_size', 'Unemployed', 'Unemployment_rate',\n",
            "       'Median'],\n",
            "      dtype='object')\n"
          ]
        }
      ]
    },
    {
      "cell_type": "code",
      "source": [
        "sfs = SFS(knn, k_features = 5, scoring = 'neg_mean_absolute_error', cv = 3, n_jobs = -1)\n",
        "sfs = sfs.fit(X_25_train, y_25_train)\n",
        "print(\"The top 5 features to predict the 25th percentile salary using knn are:\")\n",
        "print(X_25_train.columns[list(sfs.k_feature_idx_)])"
      ],
      "metadata": {
        "colab": {
          "base_uri": "https://localhost:8080/"
        },
        "id": "cmkYej2Vp66_",
        "outputId": "5f573ef9-9477-4431-e39a-d09770efc7a8"
      },
      "execution_count": null,
      "outputs": [
        {
          "output_type": "stream",
          "name": "stdout",
          "text": [
            "The top 5 features to predict the 25th percentile salary using knn are:\n",
            "Index(['ShareWomen', 'Sample_size', 'Unemployed', 'Unemployment_rate',\n",
            "       'P25th'],\n",
            "      dtype='object')\n"
          ]
        }
      ]
    },
    {
      "cell_type": "code",
      "source": [
        "sfs = SFS(knn, k_features = 5, scoring = 'neg_mean_absolute_error', cv = 3, n_jobs = -1)\n",
        "sfs = sfs.fit(X_75_train, y_75_train)\n",
        "print(\"The top 5 features to predict the 75th percentile salary using knn are:\")\n",
        "print(X_75_train.columns[list(sfs.k_feature_idx_)])"
      ],
      "metadata": {
        "colab": {
          "base_uri": "https://localhost:8080/"
        },
        "id": "4rYuIuBDqMuJ",
        "outputId": "daf98cad-e461-4106-dfbd-23754471cb96"
      },
      "execution_count": null,
      "outputs": [
        {
          "output_type": "stream",
          "name": "stdout",
          "text": [
            "The top 5 features to predict the 75th percentile salary using knn are:\n",
            "Index(['ShareWomen', 'Sample_size', 'Unemployed', 'Unemployment_rate',\n",
            "       'P75th'],\n",
            "      dtype='object')\n"
          ]
        }
      ]
    }
  ]
}